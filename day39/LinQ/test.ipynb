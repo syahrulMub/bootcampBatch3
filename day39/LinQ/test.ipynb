{
 "cells": [
  {
   "attachments": {},
   "cell_type": "markdown",
   "metadata": {},
   "source": [
    "SQL Systax"
   ]
  },
  {
   "cell_type": "code",
   "execution_count": 6,
   "metadata": {
    "dotnet_interactive": {
     "language": "csharp"
    },
    "polyglot_notebook": {
     "kernelName": "csharp"
    },
    "vscode": {
     "languageId": "polyglot-notebook"
    }
   },
   "outputs": [
    {
     "name": "stdout",
     "output_type": "stream",
     "text": [
      "S-Hawk\n",
      "S-Shark\n",
      "S-Snake\n"
     ]
    }
   ],
   "source": [
    "string[] seraphims = {\"S-Cat\", \"S-Snake\", \"S-Shark\",\"S-Hawk\"};\n",
    "var order = from seraphim in seraphims\n",
    "            orderby seraphim ascending\n",
    "            where seraphim.Length > 5\n",
    "            select seraphim;\n",
    "foreach (var n in order)\n",
    "{\n",
    "    Console.WriteLine(n);\n",
    "}"
   ]
  },
  {
   "attachments": {},
   "cell_type": "markdown",
   "metadata": {},
   "source": [
    "Method Syntax"
   ]
  },
  {
   "cell_type": "code",
   "execution_count": 7,
   "metadata": {
    "dotnet_interactive": {
     "language": "csharp"
    },
    "polyglot_notebook": {
     "kernelName": "csharp"
    },
    "vscode": {
     "languageId": "polyglot-notebook"
    }
   },
   "outputs": [
    {
     "name": "stdout",
     "output_type": "stream",
     "text": [
      "S-Hawk\n",
      "S-Shark\n",
      "S-Snake\n"
     ]
    }
   ],
   "source": [
    "var mSyntax = seraphims.OrderBy(n => n).Where(n => n.Length > 5).ToArray();\n",
    "foreach ( var m in mSyntax)\n",
    "{\n",
    "    Console.WriteLine(m);\n",
    "}"
   ]
  },
  {
   "attachments": {},
   "cell_type": "markdown",
   "metadata": {},
   "source": [
    "Select item in class"
   ]
  },
  {
   "cell_type": "code",
   "execution_count": 33,
   "metadata": {
    "dotnet_interactive": {
     "language": "csharp"
    },
    "polyglot_notebook": {
     "kernelName": "csharp"
    },
    "vscode": {
     "languageId": "polyglot-notebook"
    }
   },
   "outputs": [
    {
     "name": "stdout",
     "output_type": "stream",
     "text": [
      "Dadan Island\n",
      "Kimotsuki\n",
      "Kincir\n"
     ]
    }
   ],
   "source": [
    "public class Crew\n",
    "{\n",
    "    public int number { get; set; }\n",
    "    public string name { get; set; }\n",
    "    public string islandFrom { get; set; }\n",
    "    public bool gender { get; set; }\n",
    "\n",
    "    public static List<Crew> GetCrew()\n",
    "    {\n",
    "        return new List<Crew>()\n",
    "        {\n",
    "            new Crew() { number = 1, name = \"Luffy\", islandFrom = \"Dadan Island\", gender = true },\n",
    "            new Crew() { number = 2, name = \"Zoro\", islandFrom = \"Kimotsuki\", gender = true },\n",
    "            new Crew() { number = 3, name = \"Nami\", islandFrom = \"Kincir\", gender = false }\n",
    "        };\n",
    "    }\n",
    "}\n",
    "\n",
    " var strawHatPirates = Crew.GetCrew()\n",
    "                        .OrderBy(i => i.islandFrom)\n",
    "                        .Select(n => n.islandFrom)\n",
    "                        .Distinct()\n",
    "                        .ToList();\n",
    "\n",
    "foreach (var c in strawHatPirates)\n",
    "{\n",
    "\tConsole.WriteLine(c);\n",
    "}"
   ]
  },
  {
   "attachments": {},
   "cell_type": "markdown",
   "metadata": {},
   "source": [
    "Select all char in string"
   ]
  },
  {
   "cell_type": "code",
   "execution_count": 46,
   "metadata": {
    "dotnet_interactive": {
     "language": "csharp"
    },
    "polyglot_notebook": {
     "kernelName": "csharp"
    },
    "vscode": {
     "languageId": "polyglot-notebook"
    }
   },
   "outputs": [
    {
     "name": "stdout",
     "output_type": "stream",
     "text": [
      "C o n D R i y a n o C-o-n-D-R-i-y-a-n-o-"
     ]
    }
   ],
   "source": [
    "List<string> nameString = new List<string>(){\"Con\", \"D\", \"Riyano\"};\n",
    "IEnumerable myNameString = from list in nameString\n",
    "                            from ch in list\n",
    "                            select ch;\n",
    "foreach ( var c in myNameString)\n",
    "{\n",
    "    Console.Write(c + \" \");\n",
    "}\n",
    "\n",
    "var spareName = nameString.SelectMany(c => c);\n",
    "foreach ( var c in spareName)\n",
    "{\n",
    "    Console.Write(c + \"-\");\n",
    "}"
   ]
  }
 ],
 "metadata": {
  "language_info": {
   "name": "csharp"
  },
  "orig_nbformat": 4
 },
 "nbformat": 4,
 "nbformat_minor": 2
}
